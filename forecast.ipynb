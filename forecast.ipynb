{
 "cells": [
  {
   "cell_type": "markdown",
   "metadata": {},
   "source": [
    "## 05. forecast (시계열 분석)"
   ]
  },
  {
   "cell_type": "markdown",
   "metadata": {},
   "source": [
    "1. 배경 및 설치"
   ]
  },
  {
   "cell_type": "markdown",
   "metadata": {},
   "source": [
    "- fbprophet\n",
    "    -  https://facebook.github.io/prophet/\n",
    "- install\n",
    "    - 윈도우 유저는 Visual C++ Build Tool을 먼저\n",
    "    - https://go.microsoft.com/fwlink/?LinkId=691126\n",
    "    - conda install pandas-datareader\n",
    "    - conda install -c conda forge fbprophet\n",
    "    - pip install fbprophet"
   ]
  },
  {
   "cell_type": "markdown",
   "metadata": {},
   "source": []
  }
 ],
 "metadata": {
  "language_info": {
   "name": "python"
  }
 },
 "nbformat": 4,
 "nbformat_minor": 2
}
